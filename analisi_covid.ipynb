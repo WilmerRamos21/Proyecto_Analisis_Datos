{
 "cells": [
  {
   "cell_type": "code",
   "execution_count": 1,
   "id": "3f98c5c8",
   "metadata": {},
   "outputs": [
    {
     "name": "stdout",
     "output_type": "stream",
     "text": [
      "Collecting praw\n",
      "  Downloading praw-7.8.1-py3-none-any.whl.metadata (9.4 kB)\n",
      "Collecting textblob\n",
      "  Downloading textblob-0.19.0-py3-none-any.whl.metadata (4.4 kB)\n",
      "Collecting prawcore<3,>=2.4 (from praw)\n",
      "  Downloading prawcore-2.4.0-py3-none-any.whl.metadata (5.0 kB)\n",
      "Collecting update_checker>=0.18 (from praw)\n",
      "  Downloading update_checker-0.18.0-py3-none-any.whl.metadata (2.3 kB)\n",
      "Requirement already satisfied: websocket-client>=0.54.0 in c:\\users\\gabri\\anaconda3\\lib\\site-packages (from praw) (1.8.0)\n",
      "Collecting nltk>=3.9 (from textblob)\n",
      "  Downloading nltk-3.9.1-py3-none-any.whl.metadata (2.9 kB)\n",
      "Requirement already satisfied: click in c:\\users\\gabri\\anaconda3\\lib\\site-packages (from nltk>=3.9->textblob) (8.1.7)\n",
      "Requirement already satisfied: joblib in c:\\users\\gabri\\anaconda3\\lib\\site-packages (from nltk>=3.9->textblob) (1.4.2)\n",
      "Requirement already satisfied: regex>=2021.8.3 in c:\\users\\gabri\\anaconda3\\lib\\site-packages (from nltk>=3.9->textblob) (2023.10.3)\n",
      "Requirement already satisfied: tqdm in c:\\users\\gabri\\anaconda3\\lib\\site-packages (from nltk>=3.9->textblob) (4.66.4)\n",
      "Requirement already satisfied: requests<3.0,>=2.6.0 in c:\\users\\gabri\\anaconda3\\lib\\site-packages (from prawcore<3,>=2.4->praw) (2.32.2)\n",
      "Requirement already satisfied: charset-normalizer<4,>=2 in c:\\users\\gabri\\anaconda3\\lib\\site-packages (from requests<3.0,>=2.6.0->prawcore<3,>=2.4->praw) (2.0.4)\n",
      "Requirement already satisfied: idna<4,>=2.5 in c:\\users\\gabri\\anaconda3\\lib\\site-packages (from requests<3.0,>=2.6.0->prawcore<3,>=2.4->praw) (3.7)\n",
      "Requirement already satisfied: urllib3<3,>=1.21.1 in c:\\users\\gabri\\anaconda3\\lib\\site-packages (from requests<3.0,>=2.6.0->prawcore<3,>=2.4->praw) (2.2.2)\n",
      "Requirement already satisfied: certifi>=2017.4.17 in c:\\users\\gabri\\anaconda3\\lib\\site-packages (from requests<3.0,>=2.6.0->prawcore<3,>=2.4->praw) (2024.8.30)\n",
      "Requirement already satisfied: colorama in c:\\users\\gabri\\anaconda3\\lib\\site-packages (from click->nltk>=3.9->textblob) (0.4.6)\n",
      "Downloading praw-7.8.1-py3-none-any.whl (189 kB)\n",
      "   ---------------------------------------- 0.0/189.3 kB ? eta -:--:--\n",
      "   ----------------------- ---------------- 112.6/189.3 kB 2.2 MB/s eta 0:00:01\n",
      "   ---------------------------------------- 189.3/189.3 kB 2.8 MB/s eta 0:00:00\n",
      "Downloading textblob-0.19.0-py3-none-any.whl (624 kB)\n",
      "   ---------------------------------------- 0.0/624.3 kB ? eta -:--:--\n",
      "   --------------------- ----------------- 348.2/624.3 kB 10.9 MB/s eta 0:00:01\n",
      "   ---------------------------------------- 624.3/624.3 kB 9.9 MB/s eta 0:00:00\n",
      "Downloading nltk-3.9.1-py3-none-any.whl (1.5 MB)\n",
      "   ---------------------------------------- 0.0/1.5 MB ? eta -:--:--\n",
      "   ---------------- ----------------------- 0.6/1.5 MB 19.5 MB/s eta 0:00:01\n",
      "   -------------------------------- ------- 1.2/1.5 MB 15.8 MB/s eta 0:00:01\n",
      "   ---------------------------------------- 1.5/1.5 MB 13.7 MB/s eta 0:00:00\n",
      "Downloading prawcore-2.4.0-py3-none-any.whl (17 kB)\n",
      "Downloading update_checker-0.18.0-py3-none-any.whl (7.0 kB)\n",
      "Installing collected packages: update_checker, prawcore, nltk, textblob, praw\n",
      "  Attempting uninstall: nltk\n",
      "    Found existing installation: nltk 3.8.1\n",
      "    Uninstalling nltk-3.8.1:\n",
      "      Successfully uninstalled nltk-3.8.1\n",
      "Successfully installed nltk-3.9.1 praw-7.8.1 prawcore-2.4.0 textblob-0.19.0 update_checker-0.18.0\n"
     ]
    }
   ],
   "source": [
    "!pip install praw textblob"
   ]
  },
  {
   "cell_type": "code",
   "execution_count": 2,
   "id": "461bfa5a",
   "metadata": {},
   "outputs": [],
   "source": [
    "import praw "
   ]
  },
  {
   "cell_type": "code",
   "execution_count": 3,
   "id": "27e0a813",
   "metadata": {},
   "outputs": [],
   "source": [
    "from textblob import TextBlob\n",
    "import csv \n",
    "from datetime import datetime\n",
    "import pandas as pd\n",
    "import os \n"
   ]
  },
  {
   "cell_type": "code",
   "execution_count": 8,
   "id": "b413ee78",
   "metadata": {},
   "outputs": [
    {
     "name": "stdout",
     "output_type": "stream",
     "text": [
      "Requirement already satisfied: python-dotenv in c:\\users\\gabri\\anaconda3\\lib\\site-packages (0.21.0)\n"
     ]
    }
   ],
   "source": [
    "!pip install python-dotenv"
   ]
  },
  {
   "cell_type": "code",
   "execution_count": 11,
   "id": "eb47d643",
   "metadata": {},
   "outputs": [],
   "source": [
    "from dotenv import load_dotenv"
   ]
  },
  {
   "cell_type": "code",
   "execution_count": 12,
   "id": "2d9e92e8",
   "metadata": {},
   "outputs": [
    {
     "data": {
      "text/plain": [
       "True"
      ]
     },
     "execution_count": 12,
     "metadata": {},
     "output_type": "execute_result"
    }
   ],
   "source": [
    "load_dotenv()  # Carga las variables del archivo .env"
   ]
  },
  {
   "cell_type": "code",
   "execution_count": 15,
   "id": "85354569",
   "metadata": {},
   "outputs": [
    {
     "name": "stdout",
     "output_type": "stream",
     "text": [
      "Autenticado como: None\n"
     ]
    }
   ],
   "source": [
    "# Autenticacion de crendenciales \n",
    "reddit = praw.Reddit(\n",
    "    client_id=os.getenv(\"CLIENT_ID\"),\n",
    "    client_secret=os.getenv(\"CLIENT_SECRET\"),\n",
    "    user_agent=os.getenv(\"USER_AGENT\")\n",
    ")\n",
    "\n",
    "# Probar que la autenticación fue exitosa\n",
    "print(\"Autenticado como:\", reddit.user.me())"
   ]
  },
  {
   "cell_type": "code",
   "execution_count": 19,
   "id": "6bf27dd5",
   "metadata": {},
   "outputs": [
    {
     "name": "stderr",
     "output_type": "stream",
     "text": [
      "C:\\Users\\gabri\\AppData\\Local\\Temp\\ipykernel_9128\\4180488376.py:22: DeprecationWarning: datetime.datetime.utcfromtimestamp() is deprecated and scheduled for removal in a future version. Use timezone-aware objects to represent datetimes in UTC: datetime.datetime.fromtimestamp(timestamp, datetime.UTC).\n",
      "  creado = datetime.utcfromtimestamp(autor.created_utc).strftime('%Y-%m-%d')\n"
     ]
    }
   ],
   "source": [
    "\n",
    "import time\n",
    "# 👉 CAMBIA ESTA URL por la nueva publicación de Reddit\n",
    "url = \"https://www.reddit.com/r/NoStupidQuestions/comments/1kwm85c/what_happened_to_covid_is_there_nothing_about/\"\n",
    "submission = reddit.submission(url=url)\n",
    "\n",
    "# Expandir todos los comentarios\n",
    "submission.comments.replace_more(limit=0)\n",
    "comentarios = submission.comments.list()\n",
    "\n",
    "# Prepara los datos\n",
    "datos = []\n",
    "\n",
    "for comment in comentarios:\n",
    "    texto = comment.body.strip()\n",
    "    if not texto:\n",
    "        continue\n",
    "\n",
    "    autor = comment.author\n",
    "    if autor:\n",
    "        nombre = autor.name\n",
    "        try:\n",
    "            creado = datetime.utcfromtimestamp(autor.created_utc).strftime('%Y-%m-%d')\n",
    "        except:\n",
    "            creado = \"\"\n",
    "    else:\n",
    "        nombre = \"[eliminado]\"\n",
    "        creado = \"\"\n",
    "\n",
    "    datos.append([nombre, creado, texto])\n",
    "\n",
    "    # Espera 1 segundos entre cada comentario\n",
    "    time.sleep(1)"
   ]
  },
  {
   "cell_type": "code",
   "execution_count": 20,
   "id": "4b5560e6",
   "metadata": {},
   "outputs": [
    {
     "name": "stdout",
     "output_type": "stream",
     "text": [
      "🏁 Se guardaron 395 comentarios en 'comentarios_2025_COVID_19.csv'\n"
     ]
    }
   ],
   "source": [
    "# Guardar en CSV (crear o añadir según exista)\n",
    "archivo = \"comentarios_2025_COVID_19.csv\"\n",
    "archivo_nuevo = not os.path.exists(archivo)\n",
    "\n",
    "with open(archivo, mode=\"a\", newline=\"\", encoding=\"utf-8\") as archivo_csv:\n",
    "    writer = csv.writer(archivo_csv)\n",
    "    if archivo_nuevo:\n",
    "        writer.writerow([\"Usuario\", \"Fecha_Creación\", \"Comentario\"])\n",
    "    writer.writerows(datos)\n",
    "\n",
    "print(f\"🏁 Se guardaron {len(datos)} comentarios en '{archivo}'\")"
   ]
  },
  {
   "cell_type": "code",
   "execution_count": 3,
   "id": "8f8c3d49",
   "metadata": {},
   "outputs": [
    {
     "data": {
      "text/html": [
       "<div>\n",
       "<style scoped>\n",
       "    .dataframe tbody tr th:only-of-type {\n",
       "        vertical-align: middle;\n",
       "    }\n",
       "\n",
       "    .dataframe tbody tr th {\n",
       "        vertical-align: top;\n",
       "    }\n",
       "\n",
       "    .dataframe thead th {\n",
       "        text-align: right;\n",
       "    }\n",
       "</style>\n",
       "<table border=\"1\" class=\"dataframe\">\n",
       "  <thead>\n",
       "    <tr style=\"text-align: right;\">\n",
       "      <th></th>\n",
       "      <th>Usuario</th>\n",
       "      <th>Fecha_Creación</th>\n",
       "      <th>Comentario</th>\n",
       "    </tr>\n",
       "  </thead>\n",
       "  <tbody>\n",
       "    <tr>\n",
       "      <th>0</th>\n",
       "      <td>Psychotic_Breakdown</td>\n",
       "      <td>2023-06-24</td>\n",
       "      <td>Last year about 45 people from my work site ca...</td>\n",
       "    </tr>\n",
       "    <tr>\n",
       "      <th>1</th>\n",
       "      <td>ShiningRayde</td>\n",
       "      <td>2010-01-27</td>\n",
       "      <td>CBS News: [COVID variant NB.1.8.1 hits U.S. Wh...</td>\n",
       "    </tr>\n",
       "    <tr>\n",
       "      <th>2</th>\n",
       "      <td>mads_61</td>\n",
       "      <td>2019-12-15</td>\n",
       "      <td>My mom’s best friend passed away from COVID ju...</td>\n",
       "    </tr>\n",
       "    <tr>\n",
       "      <th>3</th>\n",
       "      <td>dfinkelstein</td>\n",
       "      <td>2011-09-16</td>\n",
       "      <td>People are less eager to watch news about it n...</td>\n",
       "    </tr>\n",
       "    <tr>\n",
       "      <th>4</th>\n",
       "      <td>punkindle</td>\n",
       "      <td>2021-01-08</td>\n",
       "      <td>I work in healthcare. It goes up and down abou...</td>\n",
       "    </tr>\n",
       "    <tr>\n",
       "      <th>...</th>\n",
       "      <td>...</td>\n",
       "      <td>...</td>\n",
       "      <td>...</td>\n",
       "    </tr>\n",
       "    <tr>\n",
       "      <th>390</th>\n",
       "      <td>[eliminado]</td>\n",
       "      <td>NaN</td>\n",
       "      <td>[deleted]</td>\n",
       "    </tr>\n",
       "    <tr>\n",
       "      <th>391</th>\n",
       "      <td>[eliminado]</td>\n",
       "      <td>NaN</td>\n",
       "      <td>[removed]</td>\n",
       "    </tr>\n",
       "    <tr>\n",
       "      <th>392</th>\n",
       "      <td>Educational-Side9940</td>\n",
       "      <td>2021-05-19</td>\n",
       "      <td>There are lots of TV ads and website ads about...</td>\n",
       "    </tr>\n",
       "    <tr>\n",
       "      <th>393</th>\n",
       "      <td>Agreeable-Camera-382</td>\n",
       "      <td>2024-07-14</td>\n",
       "      <td>I see your messages are being deleted. Wonder ...</td>\n",
       "    </tr>\n",
       "    <tr>\n",
       "      <th>394</th>\n",
       "      <td>Agreeable-Camera-382</td>\n",
       "      <td>2024-07-14</td>\n",
       "      <td>It is if that's your reasoning for not getting...</td>\n",
       "    </tr>\n",
       "  </tbody>\n",
       "</table>\n",
       "<p>395 rows × 3 columns</p>\n",
       "</div>"
      ],
      "text/plain": [
       "                  Usuario Fecha_Creación  \\\n",
       "0     Psychotic_Breakdown     2023-06-24   \n",
       "1            ShiningRayde     2010-01-27   \n",
       "2                 mads_61     2019-12-15   \n",
       "3            dfinkelstein     2011-09-16   \n",
       "4               punkindle     2021-01-08   \n",
       "..                    ...            ...   \n",
       "390           [eliminado]            NaN   \n",
       "391           [eliminado]            NaN   \n",
       "392  Educational-Side9940     2021-05-19   \n",
       "393  Agreeable-Camera-382     2024-07-14   \n",
       "394  Agreeable-Camera-382     2024-07-14   \n",
       "\n",
       "                                            Comentario  \n",
       "0    Last year about 45 people from my work site ca...  \n",
       "1    CBS News: [COVID variant NB.1.8.1 hits U.S. Wh...  \n",
       "2    My mom’s best friend passed away from COVID ju...  \n",
       "3    People are less eager to watch news about it n...  \n",
       "4    I work in healthcare. It goes up and down abou...  \n",
       "..                                                 ...  \n",
       "390                                          [deleted]  \n",
       "391                                          [removed]  \n",
       "392  There are lots of TV ads and website ads about...  \n",
       "393  I see your messages are being deleted. Wonder ...  \n",
       "394  It is if that's your reasoning for not getting...  \n",
       "\n",
       "[395 rows x 3 columns]"
      ]
     },
     "execution_count": 3,
     "metadata": {},
     "output_type": "execute_result"
    }
   ],
   "source": [
    "# Leer y mostrar los datos guardados\n",
    "import pandas as pd\n",
    "df=pd.read_csv(\"comentarios_2025_COVID_19.csv\")\n",
    "df"
   ]
  },
  {
   "cell_type": "code",
   "execution_count": null,
   "id": "9b611f69",
   "metadata": {},
   "outputs": [],
   "source": []
  }
 ],
 "metadata": {
  "kernelspec": {
   "display_name": "base",
   "language": "python",
   "name": "python3"
  },
  "language_info": {
   "codemirror_mode": {
    "name": "ipython",
    "version": 3
   },
   "file_extension": ".py",
   "mimetype": "text/x-python",
   "name": "python",
   "nbconvert_exporter": "python",
   "pygments_lexer": "ipython3",
   "version": "3.12.4"
  }
 },
 "nbformat": 4,
 "nbformat_minor": 5
}
