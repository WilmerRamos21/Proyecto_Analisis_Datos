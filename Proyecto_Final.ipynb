{
 "cells": [
  {
   "cell_type": "code",
   "execution_count": 10,
   "id": "9de93301",
   "metadata": {},
   "outputs": [
    {
     "name": "stdout",
     "output_type": "stream",
     "text": [
      "Collecting praw\n",
      "  Downloading praw-7.8.1-py3-none-any.whl.metadata (9.4 kB)\n",
      "Collecting prawcore<3,>=2.4 (from praw)\n",
      "  Downloading prawcore-2.4.0-py3-none-any.whl.metadata (5.0 kB)\n",
      "Collecting update_checker>=0.18 (from praw)\n",
      "  Downloading update_checker-0.18.0-py3-none-any.whl.metadata (2.3 kB)\n",
      "Requirement already satisfied: websocket-client>=0.54.0 in /opt/anaconda3/lib/python3.11/site-packages (from praw) (0.58.0)\n",
      "Requirement already satisfied: requests<3.0,>=2.6.0 in /opt/anaconda3/lib/python3.11/site-packages (from prawcore<3,>=2.4->praw) (2.32.3)\n",
      "Requirement already satisfied: charset-normalizer<4,>=2 in /opt/anaconda3/lib/python3.11/site-packages (from requests<3.0,>=2.6.0->prawcore<3,>=2.4->praw) (2.0.4)\n",
      "Requirement already satisfied: idna<4,>=2.5 in /opt/anaconda3/lib/python3.11/site-packages (from requests<3.0,>=2.6.0->prawcore<3,>=2.4->praw) (3.4)\n",
      "Requirement already satisfied: urllib3<3,>=1.21.1 in /opt/anaconda3/lib/python3.11/site-packages (from requests<3.0,>=2.6.0->prawcore<3,>=2.4->praw) (2.0.7)\n",
      "Requirement already satisfied: certifi>=2017.4.17 in /opt/anaconda3/lib/python3.11/site-packages (from requests<3.0,>=2.6.0->prawcore<3,>=2.4->praw) (2025.4.26)\n",
      "Requirement already satisfied: six in /opt/anaconda3/lib/python3.11/site-packages (from websocket-client>=0.54.0->praw) (1.16.0)\n",
      "Downloading praw-7.8.1-py3-none-any.whl (189 kB)\n",
      "Downloading prawcore-2.4.0-py3-none-any.whl (17 kB)\n",
      "Downloading update_checker-0.18.0-py3-none-any.whl (7.0 kB)\n",
      "Installing collected packages: update_checker, prawcore, praw\n",
      "\u001b[2K   \u001b[90m━━━━━━━━━━━━━━━━━━━━━━━━━━━━━━━━━━━━━━━━\u001b[0m \u001b[32m3/3\u001b[0m [praw]\n",
      "\u001b[1A\u001b[2KSuccessfully installed praw-7.8.1 prawcore-2.4.0 update_checker-0.18.0\n",
      "Note: you may need to restart the kernel to use updated packages.\n"
     ]
    }
   ],
   "source": [
    "pip install praw"
   ]
  },
  {
   "cell_type": "code",
   "execution_count": null,
   "id": "c628e423",
   "metadata": {},
   "outputs": [],
   "source": [
    "pip install textblob"
   ]
  },
  {
   "cell_type": "code",
   "execution_count": 2,
   "id": "8341adf0",
   "metadata": {},
   "outputs": [],
   "source": [
    "# Librerias usadas para la extraccion de comentarios\n",
    "import praw\n",
    "from textblob import TextBlob\n",
    "import csv\n",
    "import time\n",
    "from datetime import datetime\n",
    "import pandas as pd\n",
    "import os"
   ]
  },
  {
   "cell_type": "code",
   "execution_count": null,
   "id": "179ee35b",
   "metadata": {},
   "outputs": [
    {
     "name": "stdout",
     "output_type": "stream",
     "text": [
      "Autenticado como: According-Sherbet796\n"
     ]
    }
   ],
   "source": [
    "\n",
    "reddit = praw.Reddit(\n",
    "    client_id='zRF0ZieKs1Q2mLgpb76x7g',\n",
    "    client_secret='uunPz8KIIhhLq0rQp_QkhPejdBC1FQ',\n",
    "    user_agent='script:sentimientos-app:v1.0 (by u/According-Sherbet796)',\n",
    "    username='According-Sherbet796',\n",
    "    password='Adrian123'\n",
    ")\n",
    "\n",
    "# Probar que la autenticación fue exitosa\n",
    "print(\"Autenticado como:\", reddit.user.me())"
   ]
  },
  {
   "cell_type": "code",
   "execution_count": null,
   "id": "8073cb1e",
   "metadata": {},
   "outputs": [],
   "source": [
    "# Links de los post de reddit utilizados para los hobbies\n",
    "\"https://www.reddit.com/r/Hobbies/comments/1frlxq5/what_hobby_unexpectedly_changed_your_life_and_how/\"\n",
    "\"https://www.reddit.com/r/Hobbies/comments/17x20ht/what_are_some_lesser_known_creative_hobbies/\"\n",
    "\"https://www.reddit.com/r/AskReddit/comments/1lcb4s1/whats_the_cheapest_hobby_someone_can_get_into/\"\n",
    "\"https://www.reddit.com/r/AskReddit/comments/1lmebln/what_is_the_most_expensive_hobby_you_have/\"\n",
    "\"https://www.reddit.com/r/AskReddit/comments/cb9vu/i_need_a_hobby_what_are_your_hobbies_reddit/\"\n",
    "\"https://www.reddit.com/r/Hobbies/comments/1cz0f3y/im_making_a_list_of_50_hobbies_to_make_me_try_new/\"\n",
    "\"https://www.reddit.com/r/AskReddit/comments/cdwvhh/redditors_with_interesting_hobbies_what_do_you_do/\"\n",
    "\"https://www.reddit.com/r/Adulting/comments/17vy8ai/what_are_yalls_hobbies/\"\n",
    "\"https://www.reddit.com/r/GenZ/comments/1cqsj1y/what_are_yalls_hobbies/\"\n",
    "\"https://www.reddit.com/r/AskReddit/comments/ia8xfz/what_new_hobbies_have_you_picked_up_this_year_and/\"\n",
    "\"https://www.reddit.com/r/AskReddit/comments/1dgrvtv/what_hobbies_instantly_make_someone_more/\"\n"
   ]
  },
  {
   "cell_type": "code",
   "execution_count": null,
   "id": "57a6a6b8",
   "metadata": {},
   "outputs": [],
   "source": [
    "# Links de los post de reddit usados para un evento deportivo a nivel mundial\n",
    "\"https://www.reddit.com/r/formula1/comments/1m8vgxe/2025_belgian_gp_free_practice_1_discussion/\"\n",
    "\"https://www.reddit.com/r/formula1/comments/1m9q1s0/max_verstappen_wins_the_sprint_of_the_2025/\"\n",
    "\"https://www.reddit.com/r/formula1/comments/1m9ukap/chris_medland_hamilton_has_his_lap_time_deleted/\"\n",
    "\"https://www.reddit.com/r/formula1/comments/1m9vpy0/2025_belgian_gp_qualifying_classification/\"\n",
    "\"https://www.reddit.com/r/formula1/comments/1m9w0ju/lewis_hamilton_from_my_side_another_mistake_i/\"\n",
    "\"https://www.reddit.com/r/formula1/comments/1ma1h9v/kimi_antonelli_emotional_and_in_tears_in_the/\"\n",
    "\"https://www.reddit.com/r/formula1/comments/1kv48ks/2025_monaco_gp_post_race_discussion/\"\n",
    "\"https://www.reddit.com/r/formula1/comments/1lngbrf/2025_austrian_gp_post_race_discussion/\"\n",
    "\"https://www.reddit.com/r/formula1/comments/1lt4am5/2025_british_gp_postrace_discussion/\"\n",
    "\"https://www.reddit.com/r/formula1/comments/1kzxkva/2025_spanish_gp_qualifying_discussion/\"\n",
    "\"https://www.reddit.com/r/formula1/comments/1kv1vbn/2025_monaco_gp_race_thread/\"\n",
    "\"https://www.reddit.com/r/formula1/comments/1lsc4jh/2025_british_gp_postqualifying_discussion/\"\n",
    "\"https://www.reddit.com/r/formula1/comments/1jsnrk7/2025_japanese_gp_post_race_discussion/\""
   ]
  },
  {
   "cell_type": "code",
   "execution_count": null,
   "id": "773321a6",
   "metadata": {},
   "outputs": [],
   "source": [
    "# Links de los post de reddit usados para un concierto o evento publicos\n",
    "\"https://www.reddit.com/r/interestingasfuck/comments/1m1ke0m/tomorrowland_is_on_fire/\"\n",
    "\"https://www.reddit.com/r/Wellthatsucks/comments/1m1jp3r/mainstage_of_tomorrowland_is_on_fire/\"\n",
    "\"https://www.reddit.com/r/Damnthatsinteresting/comments/1m1k9rw/tomorrowland_stage_burns_to_ground_before/\"\n",
    "\"https://www.reddit.com/r/belgium/comments/1m1htow/mainstage_of_tomorrowland_is_on_fire/\"\n",
    "\"https://www.reddit.com/r/movies/comments/2y5hmv/new_tomorrowland_poster/\"\n",
    "\"https://www.reddit.com/r/movies/comments/39asza/disney_could_lose_140_million_on_tomorrowland/\"\n",
    "\"https://www.reddit.com/r/CatastrophicFailure/comments/1m1ii20/mainstage_of_tomorrowland_festival_which_is/\"\n",
    "\"https://www.reddit.com/r/Tomorrowland/comments/1m1h2vf/theres_a_fire_atm_at_tomorrowland/\"\n",
    "\"https://www.reddit.com/r/europe/comments/1m1jyxh/mainstage_of_tomorrowland_is_on_fire/\"\n",
    "\"https://www.reddit.com/r/hardstyle/comments/1m1hu7s/mainstage_tomorrowland_on_fire/\"\n"
   ]
  },
  {
   "cell_type": "code",
   "execution_count": 53,
   "id": "c8273058",
   "metadata": {},
   "outputs": [],
   "source": [
    "# 👉 CAMBIA ESTA URL por la nueva publicación de Reddit\n",
    "url = \"https://www.reddit.com/r/AskReddit/comments/1dgrvtv/what_hobbies_instantly_make_someone_more/\"\n",
    "submission = reddit.submission(url=url)\n",
    "\n",
    "# Expandir todos los comentarios\n",
    "submission.comments.replace_more(limit=0)\n",
    "comentarios = submission.comments.list()\n",
    "\n",
    "# Prepara los datos\n",
    "datos = []\n",
    "\n",
    "for comment in comentarios:\n",
    "    texto = comment.body.strip()\n",
    "    if not texto:\n",
    "        continue\n",
    "\n",
    "    autor = comment.author\n",
    "    if autor:\n",
    "        nombre = autor.name\n",
    "        try:\n",
    "            creado = datetime.utcfromtimestamp(autor.created_utc).strftime('%Y-%m-%d')\n",
    "        except:\n",
    "            creado = \"\"\n",
    "    else:\n",
    "        nombre = \"[eliminado]\"\n",
    "        creado = \"\"\n",
    "\n",
    "    datos.append([nombre, creado, texto])\n",
    "\n",
    "    # Espera 1 segundos entre cada comentario\n",
    "    time.sleep(1)"
   ]
  },
  {
   "cell_type": "code",
   "execution_count": 54,
   "id": "53a2565d",
   "metadata": {},
   "outputs": [
    {
     "name": "stdout",
     "output_type": "stream",
     "text": [
      "🏁 Se guardaron 487 comentarios en 'comentarios_reddit_hobbie_usuarios.csv'\n"
     ]
    }
   ],
   "source": [
    "# Guardar en CSV (crear o añadir según exista)\n",
    "archivo = \"comentarios_reddit_hobbie_usuarios.csv\"\n",
    "archivo_nuevo = not os.path.exists(archivo)\n",
    "\n",
    "with open(archivo, mode=\"a\", newline=\"\", encoding=\"utf-8\") as archivo_csv:\n",
    "    writer = csv.writer(archivo_csv)\n",
    "    if archivo_nuevo:\n",
    "        writer.writerow([\"Usuario\", \"Fecha_Creación\", \"Comentario\"])\n",
    "    writer.writerows(datos)\n",
    "\n",
    "print(f\"🏁 Se guardaron {len(datos)} comentarios en '{archivo}'\")"
   ]
  },
  {
   "cell_type": "code",
   "execution_count": 55,
   "id": "959a069c",
   "metadata": {},
   "outputs": [
    {
     "data": {
      "text/html": [
       "<div>\n",
       "<style scoped>\n",
       "    .dataframe tbody tr th:only-of-type {\n",
       "        vertical-align: middle;\n",
       "    }\n",
       "\n",
       "    .dataframe tbody tr th {\n",
       "        vertical-align: top;\n",
       "    }\n",
       "\n",
       "    .dataframe thead th {\n",
       "        text-align: right;\n",
       "    }\n",
       "</style>\n",
       "<table border=\"1\" class=\"dataframe\">\n",
       "  <thead>\n",
       "    <tr style=\"text-align: right;\">\n",
       "      <th></th>\n",
       "      <th>Usuario</th>\n",
       "      <th>Fecha_Creación</th>\n",
       "      <th>Comentario</th>\n",
       "    </tr>\n",
       "  </thead>\n",
       "  <tbody>\n",
       "    <tr>\n",
       "      <th>0</th>\n",
       "      <td>lazygramma</td>\n",
       "      <td>2023-01-05</td>\n",
       "      <td>Jigsaw puzzles.  For me, when I puzzle I move ...</td>\n",
       "    </tr>\n",
       "    <tr>\n",
       "      <th>1</th>\n",
       "      <td>Vegetable_Size9918</td>\n",
       "      <td>2024-06-21</td>\n",
       "      <td>Gardening; after my mom committed suicide, I w...</td>\n",
       "    </tr>\n",
       "    <tr>\n",
       "      <th>2</th>\n",
       "      <td>cavviecreature</td>\n",
       "      <td>2020-08-24</td>\n",
       "      <td>knitting. I didn't even want to knit, I wanted...</td>\n",
       "    </tr>\n",
       "    <tr>\n",
       "      <th>3</th>\n",
       "      <td>[eliminado]</td>\n",
       "      <td>NaN</td>\n",
       "      <td>Boxing. I never realized a gym was a stones th...</td>\n",
       "    </tr>\n",
       "    <tr>\n",
       "      <th>4</th>\n",
       "      <td>Yrch84</td>\n",
       "      <td>2021-12-28</td>\n",
       "      <td>Tabletop Wargaming.\\n\\n\\nI acutally rediscover...</td>\n",
       "    </tr>\n",
       "    <tr>\n",
       "      <th>...</th>\n",
       "      <td>...</td>\n",
       "      <td>...</td>\n",
       "      <td>...</td>\n",
       "    </tr>\n",
       "    <tr>\n",
       "      <th>5332</th>\n",
       "      <td>MangoTheSuspekt</td>\n",
       "      <td>2022-01-28</td>\n",
       "      <td>You can be whatever you want these days</td>\n",
       "    </tr>\n",
       "    <tr>\n",
       "      <th>5333</th>\n",
       "      <td>Alpha-Sierra-Charlie</td>\n",
       "      <td>2022-02-27</td>\n",
       "      <td>I'd read it AND buy it. And not necessarily in...</td>\n",
       "    </tr>\n",
       "    <tr>\n",
       "      <th>5334</th>\n",
       "      <td>mellogirl99</td>\n",
       "      <td>2019-02-15</td>\n",
       "      <td>It's not really the equivalent to the bass (th...</td>\n",
       "    </tr>\n",
       "    <tr>\n",
       "      <th>5335</th>\n",
       "      <td>Aerodrache</td>\n",
       "      <td>2020-01-26</td>\n",
       "      <td>Jesus, what did you start with if a twelve inc...</td>\n",
       "    </tr>\n",
       "    <tr>\n",
       "      <th>5336</th>\n",
       "      <td>Lunedete1</td>\n",
       "      <td>2023-05-23</td>\n",
       "      <td>But you can't be me</td>\n",
       "    </tr>\n",
       "  </tbody>\n",
       "</table>\n",
       "<p>5337 rows × 3 columns</p>\n",
       "</div>"
      ],
      "text/plain": [
       "                   Usuario Fecha_Creación  \\\n",
       "0               lazygramma     2023-01-05   \n",
       "1       Vegetable_Size9918     2024-06-21   \n",
       "2           cavviecreature     2020-08-24   \n",
       "3              [eliminado]            NaN   \n",
       "4                   Yrch84     2021-12-28   \n",
       "...                    ...            ...   \n",
       "5332       MangoTheSuspekt     2022-01-28   \n",
       "5333  Alpha-Sierra-Charlie     2022-02-27   \n",
       "5334           mellogirl99     2019-02-15   \n",
       "5335            Aerodrache     2020-01-26   \n",
       "5336             Lunedete1     2023-05-23   \n",
       "\n",
       "                                             Comentario  \n",
       "0     Jigsaw puzzles.  For me, when I puzzle I move ...  \n",
       "1     Gardening; after my mom committed suicide, I w...  \n",
       "2     knitting. I didn't even want to knit, I wanted...  \n",
       "3     Boxing. I never realized a gym was a stones th...  \n",
       "4     Tabletop Wargaming.\\n\\n\\nI acutally rediscover...  \n",
       "...                                                 ...  \n",
       "5332            You can be whatever you want these days  \n",
       "5333  I'd read it AND buy it. And not necessarily in...  \n",
       "5334  It's not really the equivalent to the bass (th...  \n",
       "5335  Jesus, what did you start with if a twelve inc...  \n",
       "5336                                But you can't be me  \n",
       "\n",
       "[5337 rows x 3 columns]"
      ]
     },
     "execution_count": 55,
     "metadata": {},
     "output_type": "execute_result"
    }
   ],
   "source": [
    "df = pd.read_csv(\"comentarios_reddit_hobbie_usuarios.csv\")\n",
    "df"
   ]
  },
  {
   "cell_type": "code",
   "execution_count": null,
   "id": "52364e05",
   "metadata": {},
   "outputs": [],
   "source": []
  }
 ],
 "metadata": {
  "kernelspec": {
   "display_name": "base",
   "language": "python",
   "name": "python3"
  },
  "language_info": {
   "codemirror_mode": {
    "name": "ipython",
    "version": 3
   },
   "file_extension": ".py",
   "mimetype": "text/x-python",
   "name": "python",
   "nbconvert_exporter": "python",
   "pygments_lexer": "ipython3",
   "version": "3.11.7"
  }
 },
 "nbformat": 4,
 "nbformat_minor": 5
}
