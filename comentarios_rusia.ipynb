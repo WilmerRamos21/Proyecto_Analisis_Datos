{
 "cells": [
  {
   "cell_type": "code",
   "execution_count": 1,
   "id": "6133fa25",
   "metadata": {},
   "outputs": [],
   "source": [
    "import praw "
   ]
  },
  {
   "cell_type": "code",
   "execution_count": 2,
   "id": "8ff8187e",
   "metadata": {},
   "outputs": [],
   "source": [
    "from textblob import TextBlob\n",
    "import csv \n",
    "from datetime import datetime\n",
    "import pandas as pd\n",
    "import os "
   ]
  },
  {
   "cell_type": "code",
   "execution_count": 3,
   "id": "c759c1a3",
   "metadata": {},
   "outputs": [],
   "source": [
    "from dotenv import load_dotenv"
   ]
  },
  {
   "cell_type": "code",
   "execution_count": 4,
   "id": "4b103cba",
   "metadata": {},
   "outputs": [
    {
     "data": {
      "text/plain": [
       "True"
      ]
     },
     "execution_count": 4,
     "metadata": {},
     "output_type": "execute_result"
    }
   ],
   "source": [
    "load_dotenv()  # Carga las variables del archivo .env"
   ]
  },
  {
   "cell_type": "code",
   "execution_count": 5,
   "id": "3761d345",
   "metadata": {},
   "outputs": [
    {
     "name": "stdout",
     "output_type": "stream",
     "text": [
      "Autenticado como: Connect_Assist5828\n"
     ]
    }
   ],
   "source": [
    "# Autenticacion de crendenciales \n",
    "reddit = praw.Reddit(\n",
    "    client_id=os.getenv(\"CLIENT_ID\"),\n",
    "    client_secret=os.getenv(\"CLIENT_SECRET\"),\n",
    "     username=os.getenv(\"USERNAME\"),\n",
    "    password=os.getenv(\"PASSWORD\"),\n",
    "    user_agent=os.getenv(\"USER_AGENT\")\n",
    "   \n",
    ")\n",
    "\n",
    "# Probar que la autenticación fue exitosa\n",
    "print(\"Autenticado como:\", reddit.user.me())"
   ]
  },
  {
   "cell_type": "code",
   "execution_count": 9,
   "id": "b74f7a8a",
   "metadata": {},
   "outputs": [
    {
     "name": "stderr",
     "output_type": "stream",
     "text": [
      "C:\\Users\\gabri\\AppData\\Local\\Temp\\ipykernel_8148\\3325314154.py:23: DeprecationWarning: datetime.datetime.utcfromtimestamp() is deprecated and scheduled for removal in a future version. Use timezone-aware objects to represent datetimes in UTC: datetime.datetime.fromtimestamp(timestamp, datetime.UTC).\n",
      "  creado = datetime.utcfromtimestamp(autor.created_utc).strftime('%Y-%m-%d')\n"
     ]
    }
   ],
   "source": [
    "\n",
    "import time\n",
    "#Terreemoto en Rusia\n",
    "# 👉 CAMBIA ESTA URL por la nueva publicación de Reddit\n",
    "url = \"https://www.reddit.com/r/interestingasfuck/comments/1mctdq0/largest_earthquake_in_14_years_strikes_off_the/\"\n",
    "submission = reddit.submission(url=url)\n",
    "\n",
    "#Expandir todos los comentarios\n",
    "submission.comments.replace_more(limit=0)\n",
    "comentarios = submission.comments.list()\n",
    "\n",
    "# Prepara los datos\n",
    "datos = []\n",
    "\n",
    "for comment in comentarios:\n",
    "    texto = comment.body.strip()\n",
    "    if not texto:\n",
    "        continue\n",
    "\n",
    "    autor = comment.author\n",
    "    if autor:\n",
    "        nombre = autor.name\n",
    "        try:\n",
    "            creado = datetime.utcfromtimestamp(autor.created_utc).strftime('%Y-%m-%d')\n",
    "        except:\n",
    "            creado = \"\"\n",
    "    else:\n",
    "        nombre = \"[eliminado]\"\n",
    "        creado = \"\"\n",
    "\n",
    "    datos.append([nombre, creado, texto])\n",
    "\n",
    "    # Espera 1 segundos entre cada comentario\n",
    "    time.sleep(1)"
   ]
  },
  {
   "cell_type": "code",
   "execution_count": 10,
   "id": "77b88d7b",
   "metadata": {},
   "outputs": [
    {
     "name": "stdout",
     "output_type": "stream",
     "text": [
      "🏁 Se guardaron 496 comentarios en 'comentarios2_terremoto_rusia.csv'\n"
     ]
    }
   ],
   "source": [
    "# Guardar en CSV (crear o añadir según exista)\n",
    "archivo = \"comentarios2_terremoto_rusia.csv\"\n",
    "archivo_nuevo = not os.path.exists(archivo)\n",
    "\n",
    "with open(archivo, mode=\"a\", newline=\"\", encoding=\"utf-8\") as archivo_csv:\n",
    "    writer = csv.writer(archivo_csv)\n",
    "    if archivo_nuevo:\n",
    "        writer.writerow([\"Usuario\", \"Fecha_Creación\", \"Comentario\"])\n",
    "    writer.writerows(datos)\n",
    "\n",
    "print(f\"🏁 Se guardaron {len(datos)} comentarios en '{archivo}'\")"
   ]
  },
  {
   "cell_type": "code",
   "execution_count": 11,
   "id": "32e58ad3",
   "metadata": {},
   "outputs": [
    {
     "data": {
      "text/html": [
       "<div>\n",
       "<style scoped>\n",
       "    .dataframe tbody tr th:only-of-type {\n",
       "        vertical-align: middle;\n",
       "    }\n",
       "\n",
       "    .dataframe tbody tr th {\n",
       "        vertical-align: top;\n",
       "    }\n",
       "\n",
       "    .dataframe thead th {\n",
       "        text-align: right;\n",
       "    }\n",
       "</style>\n",
       "<table border=\"1\" class=\"dataframe\">\n",
       "  <thead>\n",
       "    <tr style=\"text-align: right;\">\n",
       "      <th></th>\n",
       "      <th>Usuario</th>\n",
       "      <th>Fecha_Creación</th>\n",
       "      <th>Comentario</th>\n",
       "    </tr>\n",
       "  </thead>\n",
       "  <tbody>\n",
       "    <tr>\n",
       "      <th>0</th>\n",
       "      <td>i_dead-shot</td>\n",
       "      <td>2025-04-04</td>\n",
       "      <td>https://preview.redd.it/pz93glrpg0gf1.jpeg?wid...</td>\n",
       "    </tr>\n",
       "    <tr>\n",
       "      <th>1</th>\n",
       "      <td>fleshbarf</td>\n",
       "      <td>2014-05-22</td>\n",
       "      <td>8.7 is fucking massive</td>\n",
       "    </tr>\n",
       "    <tr>\n",
       "      <th>2</th>\n",
       "      <td>DunnaMang</td>\n",
       "      <td>2022-12-27</td>\n",
       "      <td>I live in Okinawa. Phone has been going bonker...</td>\n",
       "    </tr>\n",
       "    <tr>\n",
       "      <th>3</th>\n",
       "      <td>staticdresssweet</td>\n",
       "      <td>2024-12-09</td>\n",
       "      <td>8.7 magnitude makes it one of the strongest in...</td>\n",
       "    </tr>\n",
       "    <tr>\n",
       "      <th>4</th>\n",
       "      <td>FamousAnt1533</td>\n",
       "      <td>2021-03-27</td>\n",
       "      <td>https://preview.redd.it/uwgt8gez4xff1.jpeg?wid...</td>\n",
       "    </tr>\n",
       "    <tr>\n",
       "      <th>...</th>\n",
       "      <td>...</td>\n",
       "      <td>...</td>\n",
       "      <td>...</td>\n",
       "    </tr>\n",
       "    <tr>\n",
       "      <th>491</th>\n",
       "      <td>RoseTouchSicc</td>\n",
       "      <td>2020-11-05</td>\n",
       "      <td>They might also receive this info from folks w...</td>\n",
       "    </tr>\n",
       "    <tr>\n",
       "      <th>492</th>\n",
       "      <td>BeneficialEvidence6</td>\n",
       "      <td>2020-04-24</td>\n",
       "      <td>I agree with this sentiment, but yall do know ...</td>\n",
       "    </tr>\n",
       "    <tr>\n",
       "      <th>493</th>\n",
       "      <td>Bored_Amalgamation</td>\n",
       "      <td>2021-02-04</td>\n",
       "      <td>ii like how you link a private college prep sc...</td>\n",
       "    </tr>\n",
       "    <tr>\n",
       "      <th>494</th>\n",
       "      <td>TheSoupThief</td>\n",
       "      <td>2015-06-02</td>\n",
       "      <td>That's Quite Interesting in itself, not to men...</td>\n",
       "    </tr>\n",
       "    <tr>\n",
       "      <th>495</th>\n",
       "      <td>AwwwNuggetz</td>\n",
       "      <td>2024-01-19</td>\n",
       "      <td>How do I get me some of that government cheese</td>\n",
       "    </tr>\n",
       "  </tbody>\n",
       "</table>\n",
       "<p>496 rows × 3 columns</p>\n",
       "</div>"
      ],
      "text/plain": [
       "                 Usuario Fecha_Creación  \\\n",
       "0            i_dead-shot     2025-04-04   \n",
       "1              fleshbarf     2014-05-22   \n",
       "2              DunnaMang     2022-12-27   \n",
       "3       staticdresssweet     2024-12-09   \n",
       "4          FamousAnt1533     2021-03-27   \n",
       "..                   ...            ...   \n",
       "491        RoseTouchSicc     2020-11-05   \n",
       "492  BeneficialEvidence6     2020-04-24   \n",
       "493   Bored_Amalgamation     2021-02-04   \n",
       "494         TheSoupThief     2015-06-02   \n",
       "495          AwwwNuggetz     2024-01-19   \n",
       "\n",
       "                                            Comentario  \n",
       "0    https://preview.redd.it/pz93glrpg0gf1.jpeg?wid...  \n",
       "1                               8.7 is fucking massive  \n",
       "2    I live in Okinawa. Phone has been going bonker...  \n",
       "3    8.7 magnitude makes it one of the strongest in...  \n",
       "4    https://preview.redd.it/uwgt8gez4xff1.jpeg?wid...  \n",
       "..                                                 ...  \n",
       "491  They might also receive this info from folks w...  \n",
       "492  I agree with this sentiment, but yall do know ...  \n",
       "493  ii like how you link a private college prep sc...  \n",
       "494  That's Quite Interesting in itself, not to men...  \n",
       "495     How do I get me some of that government cheese  \n",
       "\n",
       "[496 rows x 3 columns]"
      ]
     },
     "execution_count": 11,
     "metadata": {},
     "output_type": "execute_result"
    }
   ],
   "source": [
    "import pandas as pandas \n",
    "df2=pd.read_csv('comentarios2_terremoto_rusia.csv')\n",
    "df2"
   ]
  },
  {
   "cell_type": "code",
   "execution_count": null,
   "id": "7041d66b",
   "metadata": {},
   "outputs": [],
   "source": []
  }
 ],
 "metadata": {
  "kernelspec": {
   "display_name": "base",
   "language": "python",
   "name": "python3"
  },
  "language_info": {
   "codemirror_mode": {
    "name": "ipython",
    "version": 3
   },
   "file_extension": ".py",
   "mimetype": "text/x-python",
   "name": "python",
   "nbconvert_exporter": "python",
   "pygments_lexer": "ipython3",
   "version": "3.12.4"
  }
 },
 "nbformat": 4,
 "nbformat_minor": 5
}
